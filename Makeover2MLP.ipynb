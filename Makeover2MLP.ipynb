{
  "nbformat": 4,
  "nbformat_minor": 0,
  "metadata": {
    "colab": {
      "provenance": [],
      "gpuType": "T4",
      "authorship_tag": "ABX9TyNJEUZqnVbbHA1aUY8yoA18",
      "include_colab_link": true
    },
    "kernelspec": {
      "name": "python3",
      "display_name": "Python 3"
    },
    "language_info": {
      "name": "python"
    },
    "accelerator": "GPU"
  },
  "cells": [
    {
      "cell_type": "markdown",
      "metadata": {
        "id": "view-in-github",
        "colab_type": "text"
      },
      "source": [
        "<a href=\"https://colab.research.google.com/github/Anuargharsh/Movie/blob/main/Makeover2MLP.ipynb\" target=\"_parent\"><img src=\"https://colab.research.google.com/assets/colab-badge.svg\" alt=\"Open In Colab\"/></a>"
      ]
    },
    {
      "cell_type": "code",
      "execution_count": 4,
      "metadata": {
        "id": "pJMABBhXmqPb"
      },
      "outputs": [],
      "source": [
        "import torch\n",
        "import torch.nn.functional as F\n",
        "import matplotlib.pyplot as plt\n",
        "%matplotlib inline"
      ]
    },
    {
      "cell_type": "code",
      "source": [
        "#read in all the words\n",
        "words = open('/content/names.txt','r').read().splitlines()\n",
        "words[:8]"
      ],
      "metadata": {
        "colab": {
          "base_uri": "https://localhost:8080/"
        },
        "id": "CwTqXGelnjF9",
        "outputId": "bbd643ce-b2ad-4ffd-a5c2-562a0d76c7a6"
      },
      "execution_count": 5,
      "outputs": [
        {
          "output_type": "execute_result",
          "data": {
            "text/plain": [
              "['emma', 'olivia', 'ava', 'isabella', 'sophia', 'charlotte', 'mia', 'amelia']"
            ]
          },
          "metadata": {},
          "execution_count": 5
        }
      ]
    },
    {
      "cell_type": "code",
      "source": [
        "len(words)"
      ],
      "metadata": {
        "colab": {
          "base_uri": "https://localhost:8080/"
        },
        "id": "sON-HHOXo_ET",
        "outputId": "0193ce1e-8e4e-4813-fd5b-a38e6923c3de"
      },
      "execution_count": 6,
      "outputs": [
        {
          "output_type": "execute_result",
          "data": {
            "text/plain": [
              "32033"
            ]
          },
          "metadata": {},
          "execution_count": 6
        }
      ]
    },
    {
      "cell_type": "code",
      "source": [
        "chars = sorted(list(set(''.join(words))))\n",
        "stoi = {s:i+1 for i,s in enumerate(chars)}\n",
        "stoi['.'] = 0\n",
        "itos = {i:s for s,i in stoi.items()}\n",
        "print(itos)"
      ],
      "metadata": {
        "colab": {
          "base_uri": "https://localhost:8080/"
        },
        "id": "UR6w3sSVpC3k",
        "outputId": "bd0da020-54ed-4f1e-d177-d916283d6121"
      },
      "execution_count": 7,
      "outputs": [
        {
          "output_type": "stream",
          "name": "stdout",
          "text": [
            "{1: 'a', 2: 'b', 3: 'c', 4: 'd', 5: 'e', 6: 'f', 7: 'g', 8: 'h', 9: 'i', 10: 'j', 11: 'k', 12: 'l', 13: 'm', 14: 'n', 15: 'o', 16: 'p', 17: 'q', 18: 'r', 19: 's', 20: 't', 21: 'u', 22: 'v', 23: 'w', 24: 'x', 25: 'y', 26: 'z', 0: '.'}\n"
          ]
        }
      ]
    },
    {
      "cell_type": "code",
      "source": [
        "enumerate(chars)\n",
        "print(list(enumerate(chars)))"
      ],
      "metadata": {
        "colab": {
          "base_uri": "https://localhost:8080/"
        },
        "id": "eo7zoQqPWc_x",
        "outputId": "f88d4087-2e87-4371-ba50-98e29ace97bf"
      },
      "execution_count": 8,
      "outputs": [
        {
          "output_type": "stream",
          "name": "stdout",
          "text": [
            "[(0, 'a'), (1, 'b'), (2, 'c'), (3, 'd'), (4, 'e'), (5, 'f'), (6, 'g'), (7, 'h'), (8, 'i'), (9, 'j'), (10, 'k'), (11, 'l'), (12, 'm'), (13, 'n'), (14, 'o'), (15, 'p'), (16, 'q'), (17, 'r'), (18, 's'), (19, 't'), (20, 'u'), (21, 'v'), (22, 'w'), (23, 'x'), (24, 'y'), (25, 'z')]\n"
          ]
        }
      ]
    },
    {
      "cell_type": "code",
      "source": [
        "print(stoi.items())\n",
        "print(list(stoi.items()))"
      ],
      "metadata": {
        "colab": {
          "base_uri": "https://localhost:8080/"
        },
        "id": "3nx_RHfHWDq6",
        "outputId": "0f871eb7-245e-4b9a-acc6-4a7124457213"
      },
      "execution_count": 9,
      "outputs": [
        {
          "output_type": "stream",
          "name": "stdout",
          "text": [
            "dict_items([('a', 1), ('b', 2), ('c', 3), ('d', 4), ('e', 5), ('f', 6), ('g', 7), ('h', 8), ('i', 9), ('j', 10), ('k', 11), ('l', 12), ('m', 13), ('n', 14), ('o', 15), ('p', 16), ('q', 17), ('r', 18), ('s', 19), ('t', 20), ('u', 21), ('v', 22), ('w', 23), ('x', 24), ('y', 25), ('z', 26), ('.', 0)])\n",
            "[('a', 1), ('b', 2), ('c', 3), ('d', 4), ('e', 5), ('f', 6), ('g', 7), ('h', 8), ('i', 9), ('j', 10), ('k', 11), ('l', 12), ('m', 13), ('n', 14), ('o', 15), ('p', 16), ('q', 17), ('r', 18), ('s', 19), ('t', 20), ('u', 21), ('v', 22), ('w', 23), ('x', 24), ('y', 25), ('z', 26), ('.', 0)]\n"
          ]
        }
      ]
    },
    {
      "cell_type": "code",
      "source": [
        "#build the vocabulary of characters and mapping\n",
        "def build_dataset(words):\n",
        "  block_size = 3#context length: how many characters do we take to predict the next one?\n",
        "  X, Y = [], []\n",
        "  for w in words:\n",
        "\n",
        "    #print(w)\n",
        "    context = [0] * block_size\n",
        "    for ch in w + '.':\n",
        "      ix = stoi[ch]\n",
        "      X.append(context)\n",
        "      Y.append(ix)\n",
        "      #print(''.join(itos[i] for i in context), '---->', itos[ix])\n",
        "      context = context[1:] + [ix] # crop and append\n",
        "\n",
        "  X = torch.tensor(X)\n",
        "  Y = torch.tensor(Y)\n",
        "  print(X.shape, Y.shape)\n",
        "  return X, Y\n",
        "\n",
        "import random\n",
        "random.seed(42)\n",
        "random.shuffle(words)\n",
        "n1 = int(0.8*len(words))\n",
        "n2 = int(0.9*len(words))\n",
        "\n",
        "Xtr, Ytr = build_dataset(words[:n1])\n",
        "Xdev,Ydev = build_dataset(words[n1:n2])\n",
        "Xte, Yte = build_dataset(words[n2:])\n"
      ],
      "metadata": {
        "id": "pIYnhV-MpuUw",
        "colab": {
          "base_uri": "https://localhost:8080/"
        },
        "outputId": "c2116369-159a-4962-e96f-8090280e3faf"
      },
      "execution_count": 198,
      "outputs": [
        {
          "output_type": "stream",
          "name": "stdout",
          "text": [
            "torch.Size([182580, 3]) torch.Size([182580])\n",
            "torch.Size([22767, 3]) torch.Size([22767])\n",
            "torch.Size([22799, 3]) torch.Size([22799])\n"
          ]
        }
      ]
    },
    {
      "cell_type": "code",
      "source": [
        "C = torch.randn((27,2))"
      ],
      "metadata": {
        "id": "xSiERfH1Ad6q"
      },
      "execution_count": 12,
      "outputs": []
    },
    {
      "cell_type": "code",
      "source": [
        "emb = C[X]\n",
        "emb.shape"
      ],
      "metadata": {
        "colab": {
          "base_uri": "https://localhost:8080/"
        },
        "id": "ReiD-rBBKP5b",
        "outputId": "af36f701-092b-4f82-815d-401c7d8e0a3b"
      },
      "execution_count": 14,
      "outputs": [
        {
          "output_type": "execute_result",
          "data": {
            "text/plain": [
              "torch.Size([228146, 3, 2])"
            ]
          },
          "metadata": {},
          "execution_count": 14
        }
      ]
    },
    {
      "cell_type": "code",
      "source": [
        "w1 = torch.randn((6,100))\n",
        "b1 = torch.randn(100)"
      ],
      "metadata": {
        "id": "-eBKY6siMSpF"
      },
      "execution_count": 15,
      "outputs": []
    },
    {
      "cell_type": "code",
      "source": [
        "h = torch.tanh(emb.view(-1,6) @ w1 + b1)"
      ],
      "metadata": {
        "id": "Xiwt_ZWmVurg"
      },
      "execution_count": 16,
      "outputs": []
    },
    {
      "cell_type": "code",
      "source": [
        "h"
      ],
      "metadata": {
        "colab": {
          "base_uri": "https://localhost:8080/"
        },
        "id": "OzAuEJc2pNgO",
        "outputId": "d97f6b5e-3ebc-425b-aeff-0e20a16e1fb2"
      },
      "execution_count": 17,
      "outputs": [
        {
          "output_type": "execute_result",
          "data": {
            "text/plain": [
              "tensor([[ 0.9677,  0.9995,  0.1902,  ..., -0.3651, -0.9813,  0.5331],\n",
              "        [ 0.4995,  1.0000, -1.0000,  ...,  0.9869, -0.7319, -0.7089],\n",
              "        [ 0.7214,  0.9979, -0.9986,  ...,  0.6392, -0.9603, -0.9027],\n",
              "        ...,\n",
              "        [ 0.9898,  0.4537,  0.9998,  ..., -0.9891, -0.9999,  0.2641],\n",
              "        [ 0.2373,  0.9999, -0.9887,  ..., -0.9818, -0.9195,  0.7266],\n",
              "        [ 0.2815,  0.9997, -1.0000,  ...,  0.9999,  0.7174, -0.3400]])"
            ]
          },
          "metadata": {},
          "execution_count": 17
        }
      ]
    },
    {
      "cell_type": "code",
      "source": [
        "h.shape"
      ],
      "metadata": {
        "colab": {
          "base_uri": "https://localhost:8080/"
        },
        "id": "nN4bN9hPqcvU",
        "outputId": "9b69a881-d6de-46b5-cd8e-b9791aa65034"
      },
      "execution_count": 18,
      "outputs": [
        {
          "output_type": "execute_result",
          "data": {
            "text/plain": [
              "torch.Size([228146, 100])"
            ]
          },
          "metadata": {},
          "execution_count": 18
        }
      ]
    },
    {
      "cell_type": "code",
      "source": [
        "w2 = torch.randn((100,27))\n",
        "b2 = torch.randn(27)"
      ],
      "metadata": {
        "id": "VYBuMJR6qj0t"
      },
      "execution_count": 19,
      "outputs": []
    },
    {
      "cell_type": "code",
      "source": [
        "logits = h @ w2 + b2"
      ],
      "metadata": {
        "id": "sBxdAPy0rYQ8"
      },
      "execution_count": 20,
      "outputs": []
    },
    {
      "cell_type": "code",
      "source": [
        "logits.shape"
      ],
      "metadata": {
        "colab": {
          "base_uri": "https://localhost:8080/"
        },
        "id": "wfwsE6uQreqj",
        "outputId": "977faa80-e039-44c8-db82-0a091c46f8ac"
      },
      "execution_count": 21,
      "outputs": [
        {
          "output_type": "execute_result",
          "data": {
            "text/plain": [
              "torch.Size([228146, 27])"
            ]
          },
          "metadata": {},
          "execution_count": 21
        }
      ]
    },
    {
      "cell_type": "code",
      "source": [
        "logits"
      ],
      "metadata": {
        "colab": {
          "base_uri": "https://localhost:8080/"
        },
        "id": "f1EArU9crgOc",
        "outputId": "9daca7b1-c14e-4646-c708-147831eddad0"
      },
      "execution_count": 22,
      "outputs": [
        {
          "output_type": "execute_result",
          "data": {
            "text/plain": [
              "tensor([[ -1.0218,  -5.1498,  -8.5883,  ...,  -5.2488,   3.7050,  -0.2296],\n",
              "        [-16.3564,  -6.4466,  -8.0762,  ...,  -5.8641,   6.7334, -13.9488],\n",
              "        [-14.7605, -11.4538,   4.3866,  ...,   3.9753,  -2.3972,  -9.9442],\n",
              "        ...,\n",
              "        [  5.5180,  -1.2136,   1.5202,  ...,   0.8538,  -9.9259,   7.9674],\n",
              "        [ -6.0128,  -3.1433, -14.9974,  ...,   5.9745,   4.2094,  -3.8006],\n",
              "        [ -7.1939,  -3.3020,   1.5332,  ..., -10.0893,  -1.7885, -10.8290]])"
            ]
          },
          "metadata": {},
          "execution_count": 22
        }
      ]
    },
    {
      "cell_type": "code",
      "source": [
        "counts = logits.exp()"
      ],
      "metadata": {
        "id": "eEIgHXw1rhWb"
      },
      "execution_count": 23,
      "outputs": []
    },
    {
      "cell_type": "code",
      "source": [
        "prob = counts / counts.sum(1, keepdims = True)"
      ],
      "metadata": {
        "id": "UQ8fdxEPrnwT"
      },
      "execution_count": 24,
      "outputs": []
    },
    {
      "cell_type": "code",
      "source": [
        "prob.shape"
      ],
      "metadata": {
        "colab": {
          "base_uri": "https://localhost:8080/"
        },
        "id": "Pkhm7Dm5v9CS",
        "outputId": "3499ac1a-9b81-4926-b6f4-d9d9799d6a2c"
      },
      "execution_count": 25,
      "outputs": [
        {
          "output_type": "execute_result",
          "data": {
            "text/plain": [
              "torch.Size([228146, 27])"
            ]
          },
          "metadata": {},
          "execution_count": 25
        }
      ]
    },
    {
      "cell_type": "code",
      "source": [],
      "metadata": {
        "id": "Fj6ZY1E8xhg8"
      },
      "execution_count": null,
      "outputs": []
    },
    {
      "cell_type": "markdown",
      "source": [
        "#Now made respectable\n"
      ],
      "metadata": {
        "id": "ege162BLx0gO"
      }
    },
    {
      "cell_type": "code",
      "source": [
        "Xtr.shape, Ytr.shape #dataset for training"
      ],
      "metadata": {
        "colab": {
          "base_uri": "https://localhost:8080/"
        },
        "id": "sy81mBqjwFUh",
        "outputId": "3748df6b-13e8-4348-899f-cf8223be96e0"
      },
      "execution_count": 139,
      "outputs": [
        {
          "output_type": "execute_result",
          "data": {
            "text/plain": [
              "(torch.Size([182625, 3]), torch.Size([182625]))"
            ]
          },
          "metadata": {},
          "execution_count": 139
        }
      ]
    },
    {
      "cell_type": "code",
      "source": [
        "g = torch.Generator().manual_seed(2147483647) # for reproducibility\n",
        "C = torch.randn((27,10), generator = g)\n",
        "W1 = torch.randn((30,200), generator = g)\n",
        "b1 = torch.randn((200), generator = g)\n",
        "W2 = torch.randn((200,27), generator = g)\n",
        "b2 = torch.randn((27), generator = g)\n",
        "parameters = [C,W1,b1,W2,b2]"
      ],
      "metadata": {
        "id": "N5Uru2rfx-ns"
      },
      "execution_count": 177,
      "outputs": []
    },
    {
      "cell_type": "code",
      "source": [
        "sum(p.nelement() for p in parameters) # number of parameters in total"
      ],
      "metadata": {
        "colab": {
          "base_uri": "https://localhost:8080/"
        },
        "id": "lgxWL8Nk0sKt",
        "outputId": "d51c81e9-7ed7-4cb7-d3c2-a102aa3b94e4"
      },
      "execution_count": 178,
      "outputs": [
        {
          "output_type": "execute_result",
          "data": {
            "text/plain": [
              "11897"
            ]
          },
          "metadata": {},
          "execution_count": 178
        }
      ]
    },
    {
      "cell_type": "code",
      "source": [
        "for p in parameters:\n",
        "  p.requires_grad = True"
      ],
      "metadata": {
        "id": "z_ilQQ5mM-hk"
      },
      "execution_count": 179,
      "outputs": []
    },
    {
      "cell_type": "code",
      "source": [
        "lre = torch.linspace(-3, 0, 1000)\n",
        "lrs = 10**lre\n"
      ],
      "metadata": {
        "id": "yAEHoX_hZYp-"
      },
      "execution_count": 180,
      "outputs": []
    },
    {
      "cell_type": "code",
      "source": [
        "lri = []\n",
        "lossi = []\n",
        "stepi = []\n"
      ],
      "metadata": {
        "id": "unjK6Hl7tm_V"
      },
      "execution_count": 181,
      "outputs": []
    },
    {
      "cell_type": "code",
      "source": [
        "\n",
        "for i in range(200000):\n",
        "\n",
        "  # Minibatch construct\n",
        "  ix = torch.randint(0, Xtr.shape[0], (32,))\n",
        "  # forwared pass\n",
        "  emb = C[Xtr[ix]] #(32,3,2)\n",
        "  h = torch.tanh(emb.view(-1,30) @ W1 + b1) #(32,100)\n",
        "  logits = h @ W2 + b2 #(32,27)\n",
        "  loss = F.cross_entropy(logits,Ytr[ix])\n",
        "  #print(loss.item())\n",
        "  # backward pass\n",
        "  for p in parameters:\n",
        "    p.grad = None\n",
        "  loss.backward()\n",
        "  #update\n",
        "  lr = 0.1 if i < 100000 else 0.01\n",
        "  for p in parameters:\n",
        "    p.data += -lr * p.grad\n",
        "\n",
        "    #track Status\n",
        "    # lri.append(lre[i])\n",
        "    lossi.append(loss.log10().item())\n",
        "    stepi.append(i)\n"
      ],
      "metadata": {
        "id": "U14PCrJz04pH"
      },
      "execution_count": 194,
      "outputs": []
    },
    {
      "cell_type": "code",
      "source": [
        "plt.plot(stepi,lossi)"
      ],
      "metadata": {
        "colab": {
          "base_uri": "https://localhost:8080/",
          "height": 448
        },
        "id": "g_LAcCzlt4JZ",
        "outputId": "e49221f1-8b37-4680-ca3f-fe535f572e65"
      },
      "execution_count": 195,
      "outputs": [
        {
          "output_type": "execute_result",
          "data": {
            "text/plain": [
              "[<matplotlib.lines.Line2D at 0x7a601b5691b0>]"
            ]
          },
          "metadata": {},
          "execution_count": 195
        },
        {
          "output_type": "display_data",
          "data": {
            "text/plain": [
              "<Figure size 640x480 with 1 Axes>"
            ],
            "image/png": "[encoded data removed]"
          },
          "metadata": {}
        }
      ]
    },
    {
      "cell_type": "code",
      "source": [
        "emb = C[Xtr] #(32,3,2)\n",
        "h = torch.tanh(emb.view(-1,30) @ W1 + b1) #(32,100)\n",
        "logits = h @ W2 + b2 #(32,27)\n",
        "loss = F.cross_entropy(logits,Ytr)\n",
        "loss"
      ],
      "metadata": {
        "colab": {
          "base_uri": "https://localhost:8080/"
        },
        "id": "mdwTDsB2mwEj",
        "outputId": "fe1f3ff8-70c9-45bc-b2d1-90a37f70eafb"
      },
      "execution_count": 196,
      "outputs": [
        {
          "output_type": "execute_result",
          "data": {
            "text/plain": [
              "tensor(2.0940, grad_fn=<NllLossBackward0>)"
            ]
          },
          "metadata": {},
          "execution_count": 196
        }
      ]
    },
    {
      "cell_type": "code",
      "source": [
        "emb = C[Xdev] #(32,3,2)\n",
        "h = torch.tanh(emb.view(-1,30) @ W1 + b1) #(32,100)\n",
        "logits = h @ W2 + b2 #(32,27)\n",
        "loss = F.cross_entropy(logits,Ydev)\n",
        "loss"
      ],
      "metadata": {
        "colab": {
          "base_uri": "https://localhost:8080/"
        },
        "id": "fPIk9PRzQ0UR",
        "outputId": "fc33151b-830c-40ef-b411-e1741fcc7405"
      },
      "execution_count": 197,
      "outputs": [
        {
          "output_type": "execute_result",
          "data": {
            "text/plain": [
              "tensor(2.1492, grad_fn=<NllLossBackward0>)"
            ]
          },
          "metadata": {},
          "execution_count": 197
        }
      ]
    },
    {
      "cell_type": "code",
      "source": [
        "plt.figure(figsize=(8,8))\n",
        "plt.scatter(C[:,0].data, C[:,1].data, s = 200)\n",
        "for i in range(C.shape[0]):\n",
        "  plt.text(C[i,0].item(), C[i,1].item(), itos[i], ha=\"center\", color=\"white\")\n",
        "plt.grid('minor')"
      ],
      "metadata": {
        "colab": {
          "base_uri": "https://localhost:8080/",
          "height": 676
        },
        "id": "IleSfRs9XgD2",
        "outputId": "b1df9158-ec9a-4b98-da2e-e2275e4489c5"
      },
      "execution_count": 160,
      "outputs": [
        {
          "output_type": "display_data",
          "data": {
            "text/plain": [
              "<Figure size 800x800 with 1 Axes>"
            ],
            "image/png": "[encoded data removed]"
          },
          "metadata": {}
        }
      ]
    },
    {
      "cell_type": "code",
      "source": [
        "# sample from the model\n",
        "g = torch.Generator().manual_seed(2147483647 + 10)\n",
        "block_size = 3\n",
        "for i in range(20):\n",
        "\n",
        "  out = []\n",
        "  context = [0] * block_size\n",
        "  while True:\n",
        "    emb = C[torch.tensor([context])] # initialize with all ...\n",
        "    h = torch.tanh(emb.view(1,-1) @ W1 + b1)\n",
        "    logits = h @ W2 + b2\n",
        "    prob = F.softmax(logits, dim = 1)\n",
        "    ix = torch.multinomial(prob, num_samples=1, generator = g).item()\n",
        "    context = context[1:] + [ix]\n",
        "    out.append(ix)\n",
        "    if ix == 0:\n",
        "      break\n",
        "  print(''.join(itos[i] for i in out))\n",
        "\n"
      ],
      "metadata": {
        "colab": {
          "base_uri": "https://localhost:8080/"
        },
        "id": "xi9LtjWHsV_9",
        "outputId": "e5834252-ac87-48a3-c8ce-1e68c2c2771f"
      },
      "execution_count": 202,
      "outputs": [
        {
          "output_type": "stream",
          "name": "stdout",
          "text": [
            "mora.\n",
            "kmyah.\n",
            "keel.\n",
            "nihayla.\n",
            "renyra.\n",
            "endraege.\n",
            "dejadielin.\n",
            "shi.\n",
            "jen.\n",
            "edecieson.\n",
            "artemy.\n",
            "korvaan.\n",
            "nosalbergian.\n",
            "jest.\n",
            "jairenlynn.\n",
            "novana.\n",
            "uba.\n",
            "ted.\n",
            "ryyah.\n",
            "fael.\n"
          ]
        }
      ]
    },
    {
      "cell_type": "code",
      "source": [],
      "metadata": {
        "id": "zW1wGcQDy-IX"
      },
      "execution_count": null,
      "outputs": []
    }
  ]
}