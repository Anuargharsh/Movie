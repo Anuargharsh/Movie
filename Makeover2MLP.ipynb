{
  "nbformat": 4,
  "nbformat_minor": 0,
  "metadata": {
    "colab": {
      "provenance": [],
      "authorship_tag": "ABX9TyM4gPZuq13puSYH6hX8Ym40",
      "include_colab_link": true
    },
    "kernelspec": {
      "name": "python3",
      "display_name": "Python 3"
    },
    "language_info": {
      "name": "python"
    }
  },
  "cells": [
    {
      "cell_type": "markdown",
      "metadata": {
        "id": "view-in-github",
        "colab_type": "text"
      },
      "source": [
        "<a href=\"https://colab.research.google.com/github/Anuargharsh/Movie/blob/main/Makeover2MLP.ipynb\" target=\"_parent\"><img src=\"https://colab.research.google.com/assets/colab-badge.svg\" alt=\"Open In Colab\"/></a>"
      ]
    },
    {
      "cell_type": "code",
      "execution_count": 2,
      "metadata": {
        "id": "pJMABBhXmqPb"
      },
      "outputs": [],
      "source": [
        "import torch\n",
        "import torch.nn.functional as F\n",
        "import matplotlib.pyplot as plt\n",
        "%matplotlib inline"
      ]
    },
    {
      "cell_type": "code",
      "source": [
        "#read in all the words\n",
        "words = open('/content/names.txt','r').read().splitlines()\n",
        "words[:8]"
      ],
      "metadata": {
        "colab": {
          "base_uri": "https://localhost:8080/"
        },
        "id": "CwTqXGelnjF9",
        "outputId": "b8ba35e6-64de-4545-940a-ac1ab58e5d7e"
      },
      "execution_count": 4,
      "outputs": [
        {
          "output_type": "execute_result",
          "data": {
            "text/plain": [
              "['emma', 'olivia', 'ava', 'isabella', 'sophia', 'charlotte', 'mia', 'amelia']"
            ]
          },
          "metadata": {},
          "execution_count": 4
        }
      ]
    },
    {
      "cell_type": "code",
      "source": [
        "len(words)"
      ],
      "metadata": {
        "colab": {
          "base_uri": "https://localhost:8080/"
        },
        "id": "sON-HHOXo_ET",
        "outputId": "04d8e590-ef4d-42e0-aa2d-f422b5c98937"
      },
      "execution_count": 5,
      "outputs": [
        {
          "output_type": "execute_result",
          "data": {
            "text/plain": [
              "32033"
            ]
          },
          "metadata": {},
          "execution_count": 5
        }
      ]
    },
    {
      "cell_type": "code",
      "source": [
        "chars = sorted(list(set(''.join(words))))\n",
        "stoi = {s:i+1 for i,s in enumerate(chars)}\n",
        "stoi['.'] = 0\n",
        "itos = {i:s for s,i in stoi.items()}\n",
        "print(itos)"
      ],
      "metadata": {
        "colab": {
          "base_uri": "https://localhost:8080/"
        },
        "id": "UR6w3sSVpC3k",
        "outputId": "67534901-b04e-47d6-8491-70cb849eee4d"
      },
      "execution_count": 6,
      "outputs": [
        {
          "output_type": "stream",
          "name": "stdout",
          "text": [
            "{1: 'a', 2: 'b', 3: 'c', 4: 'd', 5: 'e', 6: 'f', 7: 'g', 8: 'h', 9: 'i', 10: 'j', 11: 'k', 12: 'l', 13: 'm', 14: 'n', 15: 'o', 16: 'p', 17: 'q', 18: 'r', 19: 's', 20: 't', 21: 'u', 22: 'v', 23: 'w', 24: 'x', 25: 'y', 26: 'z', 0: '.'}\n"
          ]
        }
      ]
    },
    {
      "cell_type": "code",
      "source": [
        "enumerate(chars)\n",
        "print(list(enumerate(chars)))"
      ],
      "metadata": {
        "colab": {
          "base_uri": "https://localhost:8080/"
        },
        "id": "eo7zoQqPWc_x",
        "outputId": "d95969cb-11a1-4934-d7d1-0facc2ac86c3"
      },
      "execution_count": 12,
      "outputs": [
        {
          "output_type": "stream",
          "name": "stdout",
          "text": [
            "[(0, 'a'), (1, 'b'), (2, 'c'), (3, 'd'), (4, 'e'), (5, 'f'), (6, 'g'), (7, 'h'), (8, 'i'), (9, 'j'), (10, 'k'), (11, 'l'), (12, 'm'), (13, 'n'), (14, 'o'), (15, 'p'), (16, 'q'), (17, 'r'), (18, 's'), (19, 't'), (20, 'u'), (21, 'v'), (22, 'w'), (23, 'x'), (24, 'y'), (25, 'z')]\n"
          ]
        }
      ]
    },
    {
      "cell_type": "code",
      "source": [
        "print(stoi.items())\n",
        "print(list(stoi.items()))"
      ],
      "metadata": {
        "colab": {
          "base_uri": "https://localhost:8080/"
        },
        "id": "3nx_RHfHWDq6",
        "outputId": "2dee83e8-1cf0-49ad-934b-1fb58112ffed"
      },
      "execution_count": 16,
      "outputs": [
        {
          "output_type": "stream",
          "name": "stdout",
          "text": [
            "dict_items([('a', 1), ('b', 2), ('c', 3), ('d', 4), ('e', 5), ('f', 6), ('g', 7), ('h', 8), ('i', 9), ('j', 10), ('k', 11), ('l', 12), ('m', 13), ('n', 14), ('o', 15), ('p', 16), ('q', 17), ('r', 18), ('s', 19), ('t', 20), ('u', 21), ('v', 22), ('w', 23), ('x', 24), ('y', 25), ('z', 26), ('.', 0)])\n",
            "[('a', 1), ('b', 2), ('c', 3), ('d', 4), ('e', 5), ('f', 6), ('g', 7), ('h', 8), ('i', 9), ('j', 10), ('k', 11), ('l', 12), ('m', 13), ('n', 14), ('o', 15), ('p', 16), ('q', 17), ('r', 18), ('s', 19), ('t', 20), ('u', 21), ('v', 22), ('w', 23), ('x', 24), ('y', 25), ('z', 26), ('.', 0)]\n"
          ]
        }
      ]
    },
    {
      "cell_type": "code",
      "source": [
        "#build the vocabulary of characters and mapping\n",
        "\n",
        "block_size = 3 #context length: how many characters do we take to predict the next one?\n",
        "X, Y = [], []\n",
        "for w in words[:5]:\n",
        "\n",
        "  print(w)\n",
        "  context = [0] * block_size\n",
        "  for ch in w + '.':\n",
        "    ix = stoi[ch]\n",
        "    X.append(context)\n",
        "    Y.append(ix)\n",
        "    print(''.join(itos[i] for i in context), '---->', itos[ix])\n",
        "    context = context[1:] + [ix] # crop and append\n",
        "\n",
        "X = torch.tensor(X)\n",
        "Y = torch.tensor(Y)"
      ],
      "metadata": {
        "id": "pIYnhV-MpuUw",
        "colab": {
          "base_uri": "https://localhost:8080/"
        },
        "outputId": "c28e2032-8f1e-4859-b8f2-ce6a8f401cfa"
      },
      "execution_count": 29,
      "outputs": [
        {
          "output_type": "stream",
          "name": "stdout",
          "text": [
            "emma\n",
            "... ----> e\n",
            "..e ----> m\n",
            ".em ----> m\n",
            "emm ----> a\n",
            "mma ----> .\n",
            "olivia\n",
            "... ----> o\n",
            "..o ----> l\n",
            ".ol ----> i\n",
            "oli ----> v\n",
            "liv ----> i\n",
            "ivi ----> a\n",
            "via ----> .\n",
            "ava\n",
            "... ----> a\n",
            "..a ----> v\n",
            ".av ----> a\n",
            "ava ----> .\n",
            "isabella\n",
            "... ----> i\n",
            "..i ----> s\n",
            ".is ----> a\n",
            "isa ----> b\n",
            "sab ----> e\n",
            "abe ----> l\n",
            "bel ----> l\n",
            "ell ----> a\n",
            "lla ----> .\n",
            "sophia\n",
            "... ----> s\n",
            "..s ----> o\n",
            ".so ----> p\n",
            "sop ----> h\n",
            "oph ----> i\n",
            "phi ----> a\n",
            "hia ----> .\n"
          ]
        }
      ]
    },
    {
      "cell_type": "code",
      "source": [
        "X.shape, X.dtype, Y.shape, Y.dtype"
      ],
      "metadata": {
        "colab": {
          "base_uri": "https://localhost:8080/"
        },
        "id": "Cq7JSZAQeGVJ",
        "outputId": "a36c1853-1e05-47eb-9023-884c8ec02caf"
      },
      "execution_count": 30,
      "outputs": [
        {
          "output_type": "execute_result",
          "data": {
            "text/plain": [
              "(torch.Size([32, 3]), torch.int64, torch.Size([32]), torch.int64)"
            ]
          },
          "metadata": {},
          "execution_count": 30
        }
      ]
    },
    {
      "cell_type": "code",
      "source": [
        "C = torch.randn((27,2))"
      ],
      "metadata": {
        "id": "xSiERfH1Ad6q"
      },
      "execution_count": 42,
      "outputs": []
    },
    {
      "cell_type": "code",
      "source": [
        "C[5]"
      ],
      "metadata": {
        "colab": {
          "base_uri": "https://localhost:8080/"
        },
        "id": "CVOZqCpaEva1",
        "outputId": "4291a202-4ae0-4dd6-8432-6c9d536994ff"
      },
      "execution_count": 43,
      "outputs": [
        {
          "output_type": "execute_result",
          "data": {
            "text/plain": [
              "tensor([ 1.2358, -0.2458])"
            ]
          },
          "metadata": {},
          "execution_count": 43
        }
      ]
    },
    {
      "cell_type": "code",
      "source": [
        "emb = C[X]\n",
        "emb.shape"
      ],
      "metadata": {
        "colab": {
          "base_uri": "https://localhost:8080/"
        },
        "id": "ReiD-rBBKP5b",
        "outputId": "8bcdf4db-8ba8-4248-dc19-f7d42c1873bb"
      },
      "execution_count": 53,
      "outputs": [
        {
          "output_type": "execute_result",
          "data": {
            "text/plain": [
              "torch.Size([32, 3, 2])"
            ]
          },
          "metadata": {},
          "execution_count": 53
        }
      ]
    },
    {
      "cell_type": "code",
      "source": [
        "w1 = torch.randn((6,100))\n",
        "b1 = torch.randn(100)"
      ],
      "metadata": {
        "id": "-eBKY6siMSpF"
      },
      "execution_count": 54,
      "outputs": []
    },
    {
      "cell_type": "code",
      "source": [
        "h = torch.tanh(emb.view(-1,6) @ w1 + b1)"
      ],
      "metadata": {
        "id": "Xiwt_ZWmVurg"
      },
      "execution_count": 85,
      "outputs": []
    },
    {
      "cell_type": "code",
      "source": [
        "h"
      ],
      "metadata": {
        "colab": {
          "base_uri": "https://localhost:8080/"
        },
        "id": "OzAuEJc2pNgO",
        "outputId": "c9666396-256b-4c75-e170-51b67a12beba"
      },
      "execution_count": 86,
      "outputs": [
        {
          "output_type": "execute_result",
          "data": {
            "text/plain": [
              "tensor([[-0.0159,  0.9994,  0.9985,  ..., -0.7831, -0.4773, -0.9687],\n",
              "        [ 0.0497,  0.6316,  0.9862,  ...,  0.3417, -0.9388, -0.1663],\n",
              "        [-0.0388,  0.9956,  1.0000,  ..., -0.1568,  0.8656, -0.8907],\n",
              "        ...,\n",
              "        [-0.9998,  0.9409,  0.9316,  ..., -0.9910, -0.9759,  0.8948],\n",
              "        [-0.3206, -0.3414,  0.7984,  ..., -0.5007, -0.8297,  0.5883],\n",
              "        [-0.9166,  0.9763,  0.9999,  ..., -0.5745, -0.2683, -0.5527]])"
            ]
          },
          "metadata": {},
          "execution_count": 86
        }
      ]
    },
    {
      "cell_type": "code",
      "source": [
        "h.shape"
      ],
      "metadata": {
        "colab": {
          "base_uri": "https://localhost:8080/"
        },
        "id": "nN4bN9hPqcvU",
        "outputId": "10e8b5ac-165e-4aad-8648-b459d7fbfed2"
      },
      "execution_count": 87,
      "outputs": [
        {
          "output_type": "execute_result",
          "data": {
            "text/plain": [
              "torch.Size([32, 100])"
            ]
          },
          "metadata": {},
          "execution_count": 87
        }
      ]
    },
    {
      "cell_type": "code",
      "source": [
        "w2 = torch.randn((100,27))\n",
        "b2 = torch.randn(27)"
      ],
      "metadata": {
        "id": "VYBuMJR6qj0t"
      },
      "execution_count": 88,
      "outputs": []
    },
    {
      "cell_type": "code",
      "source": [
        "logits = h @ w2 + b2"
      ],
      "metadata": {
        "id": "sBxdAPy0rYQ8"
      },
      "execution_count": 89,
      "outputs": []
    },
    {
      "cell_type": "code",
      "source": [
        "logits.shape"
      ],
      "metadata": {
        "colab": {
          "base_uri": "https://localhost:8080/"
        },
        "id": "wfwsE6uQreqj",
        "outputId": "58bf4424-9d3d-4ad7-ebf7-b670579ecbf2"
      },
      "execution_count": 90,
      "outputs": [
        {
          "output_type": "execute_result",
          "data": {
            "text/plain": [
              "torch.Size([32, 27])"
            ]
          },
          "metadata": {},
          "execution_count": 90
        }
      ]
    },
    {
      "cell_type": "code",
      "source": [
        "logits"
      ],
      "metadata": {
        "colab": {
          "base_uri": "https://localhost:8080/"
        },
        "id": "f1EArU9crgOc",
        "outputId": "3b29d702-efc5-438c-9eb0-71dd0d86c49b"
      },
      "execution_count": 91,
      "outputs": [
        {
          "output_type": "execute_result",
          "data": {
            "text/plain": [
              "tensor([[ 1.1554e+00, -1.7909e-01, -1.4372e+00,  2.1412e+00, -1.4703e+00,\n",
              "          4.5249e+00, -2.1966e+00, -4.1568e+00, -8.8706e-01, -2.3766e+00,\n",
              "          1.0037e+01, -5.9048e+00,  1.0720e+01,  1.2515e+01,  5.5559e+00,\n",
              "          7.5206e+00,  4.2145e+00, -1.2563e+01, -4.6380e+00,  9.7909e+00,\n",
              "          1.5877e+00, -7.5100e+00, -7.5377e+00,  2.8622e+00,  9.7893e+00,\n",
              "         -8.5290e+00, -1.4052e+01],\n",
              "        [-9.3651e+00,  8.2198e+00,  1.4788e+01, -2.0262e+00, -8.3519e+00,\n",
              "          9.9650e-02,  3.0264e+00,  9.0480e+00,  6.7273e+00,  7.7275e+00,\n",
              "          2.0064e+01, -6.6413e+00, -9.4236e-01,  5.1318e-01,  4.0097e+00,\n",
              "          5.2099e+00,  8.2119e+00, -1.3454e+01, -3.6958e+00,  9.5094e+00,\n",
              "         -8.2160e+00,  9.2911e+00,  2.2547e+00,  1.6355e+01,  4.3476e+00,\n",
              "         -1.0339e+01, -4.3928e-02],\n",
              "        [-9.7905e+00,  1.0906e+01, -3.2298e+00, -2.5597e+00, -9.2900e+00,\n",
              "          5.4212e+00,  6.8189e+00,  8.0933e+00, -1.0738e+00,  1.6091e+01,\n",
              "          1.5443e+01, -8.9698e+00, -5.4662e-01,  3.2515e+00,  1.3343e+01,\n",
              "         -1.8260e+00, -4.0505e-01, -2.0000e+00,  1.2541e+00, -9.2150e-01,\n",
              "         -6.5666e+00, -3.2384e+00, -1.2054e+00,  1.2052e+01,  5.0365e+00,\n",
              "         -2.5110e+00, -2.8956e+00],\n",
              "        [-7.6383e+00, -1.3558e+01, -1.6044e+01, -9.7669e+00, -8.2246e+00,\n",
              "         -3.5125e-01,  8.1250e+00,  8.5271e+00,  2.6767e+00,  1.6399e+01,\n",
              "         -3.3359e+00, -1.6741e+01,  5.3210e+00, -2.2564e+00,  8.8283e-01,\n",
              "          5.6910e-01,  1.3862e+01,  5.8937e+00,  6.9994e+00,  7.0125e-01,\n",
              "         -1.9713e+00,  3.3954e+00,  5.8137e+00,  1.2375e+01,  6.7561e+00,\n",
              "         -5.9567e+00, -1.4884e+00],\n",
              "        [ 3.9641e+00, -1.7447e+01, -1.3487e+01, -3.6768e+00,  7.9411e+00,\n",
              "          2.6301e+00,  1.4906e+01,  2.1491e+00, -1.1858e+01, -3.7432e+00,\n",
              "         -3.1562e-01, -3.3581e+00,  2.1603e-01, -1.5591e+00, -2.1660e-01,\n",
              "          3.2541e-01,  8.5474e+00,  7.4373e+00, -4.1841e+00, -4.6925e+00,\n",
              "         -1.9661e+00,  6.1760e+00,  6.0921e+00, -8.3422e-01,  5.6710e-01,\n",
              "          3.0861e+00,  6.2096e-01],\n",
              "        [ 1.1554e+00, -1.7909e-01, -1.4372e+00,  2.1412e+00, -1.4703e+00,\n",
              "          4.5249e+00, -2.1966e+00, -4.1568e+00, -8.8706e-01, -2.3766e+00,\n",
              "          1.0037e+01, -5.9048e+00,  1.0720e+01,  1.2515e+01,  5.5559e+00,\n",
              "          7.5206e+00,  4.2145e+00, -1.2563e+01, -4.6380e+00,  9.7909e+00,\n",
              "          1.5877e+00, -7.5100e+00, -7.5377e+00,  2.8622e+00,  9.7893e+00,\n",
              "         -8.5290e+00, -1.4052e+01],\n",
              "        [-1.4230e+01,  6.7247e+00,  5.5945e+00, -4.3271e+00, -1.7393e+01,\n",
              "          1.9521e+00,  1.1697e+01,  1.5591e+01,  8.0025e+00,  9.7921e+00,\n",
              "          2.2129e+01, -6.1387e+00, -3.6166e+00,  1.2460e+01,  1.0668e+01,\n",
              "          3.7511e+00,  2.2658e+00,  5.0595e-01, -1.8468e+00,  1.6130e+00,\n",
              "         -3.8262e+00,  6.3920e+00,  6.8488e+00,  1.7012e+01,  5.0111e+00,\n",
              "         -5.1255e-01, -2.4253e-01],\n",
              "        [-5.9025e+00,  1.0493e+01, -1.5315e+01, -7.8196e+00, -6.4277e+00,\n",
              "          5.9527e+00,  8.5206e+00,  3.1275e+00, -5.1377e+00,  1.7470e+01,\n",
              "          9.5913e+00, -9.0590e+00, -8.7201e-01,  4.0092e+00,  1.4870e+01,\n",
              "         -1.5929e+00, -2.0867e+00,  4.7865e+00,  7.3325e+00,  4.5042e+00,\n",
              "         -5.2270e+00, -6.4625e+00, -6.8154e+00,  2.3755e+00,  5.1837e+00,\n",
              "         -1.7816e+00, -1.8040e+00],\n",
              "        [ 2.9310e+00, -1.2277e+01, -7.9264e+00, -1.4964e+01, -1.4847e+00,\n",
              "         -2.1441e+00,  8.1121e+00, -9.2775e-01,  1.2842e-01,  6.1082e+00,\n",
              "          7.2131e+00,  1.1673e+00,  6.2150e+00, -1.4397e+01, -9.5743e+00,\n",
              "         -4.4365e+00,  6.2320e+00,  6.3185e+00, -5.9463e+00, -6.1636e+00,\n",
              "         -6.3331e+00,  1.9020e+01,  7.7477e+00,  4.4494e+00,  1.3636e+00,\n",
              "         -1.2588e+00,  6.6825e+00],\n",
              "        [ 5.5822e+00, -8.9094e+00,  1.6650e-01,  7.4274e+00, -5.5976e+00,\n",
              "          4.9219e+00,  7.1534e+00, -2.6616e+00,  6.2809e-01, -1.1974e+01,\n",
              "          8.7465e+00,  2.9193e+00,  4.5245e+00, -4.4940e+00, -2.7170e+00,\n",
              "          2.1302e-01, -2.6401e+00,  1.1265e+01, -1.8377e+01,  4.5202e+00,\n",
              "         -3.7383e+00,  9.3202e+00,  5.5615e+00,  1.2690e+00,  4.1181e+00,\n",
              "         -7.9075e-01, -9.8963e+00],\n",
              "        [-1.0132e+01, -1.3565e+00,  8.4909e+00,  2.8847e+00, -1.2698e+01,\n",
              "         -4.8063e+00,  8.2241e+00,  1.3129e+01,  1.1006e+01, -1.3673e+00,\n",
              "          1.3623e+01, -7.0956e+00,  2.5815e+00,  1.4784e-02,  3.4718e+00,\n",
              "          2.6767e+00,  4.5316e-01,  7.6587e-02, -1.3074e+01,  8.0647e+00,\n",
              "         -3.4595e+00,  1.1091e+01,  8.1281e+00,  1.6204e+01,  9.9479e+00,\n",
              "         -1.3782e+01, -4.8923e-01],\n",
              "        [-7.1145e+00,  3.0809e+00, -7.0100e+00, -3.2591e+00, -3.4856e+00,\n",
              "          5.4533e+00,  2.2151e+00,  4.7421e+00, -8.6582e-04,  1.0917e+01,\n",
              "          8.9520e+00, -1.4582e+01,  2.2154e+00,  9.1041e+00,  7.9047e+00,\n",
              "         -9.2837e-01,  3.7863e+00, -1.0107e+00,  3.9455e+00,  1.3118e+00,\n",
              "         -2.7100e-01,  3.5710e-01, -5.5625e+00,  1.2134e+01,  8.1712e+00,\n",
              "         -7.8453e+00, -9.4606e-01],\n",
              "        [ 1.1554e+00, -1.7909e-01, -1.4372e+00,  2.1412e+00, -1.4703e+00,\n",
              "          4.5249e+00, -2.1966e+00, -4.1568e+00, -8.8706e-01, -2.3766e+00,\n",
              "          1.0037e+01, -5.9048e+00,  1.0720e+01,  1.2515e+01,  5.5559e+00,\n",
              "          7.5206e+00,  4.2145e+00, -1.2563e+01, -4.6380e+00,  9.7909e+00,\n",
              "          1.5877e+00, -7.5100e+00, -7.5377e+00,  2.8622e+00,  9.7893e+00,\n",
              "         -8.5290e+00, -1.4052e+01],\n",
              "        [-1.3837e+01,  2.7339e+00, -1.3670e+00, -6.0486e-01, -3.5049e+00,\n",
              "          8.8051e-01,  1.1134e+00,  5.0994e+00, -2.4161e+00, -2.4347e+00,\n",
              "          1.8041e+01, -1.5396e+01, -2.2188e+00,  1.2120e+01,  6.2983e+00,\n",
              "          4.0963e+00,  2.6600e+00, -1.1661e+01,  5.3076e+00,  2.9352e-01,\n",
              "          6.2004e+00, -2.9815e+00, -3.6482e+00,  1.4611e+01,  1.1979e+01,\n",
              "         -1.1545e+01, -7.6488e+00],\n",
              "        [-7.9792e-01, -1.5561e+00, -5.8391e+00,  9.2582e-01, -4.2807e+00,\n",
              "          1.0453e+01,  2.1531e-01, -1.1788e+01, -8.0060e+00,  1.0878e+01,\n",
              "          7.7741e+00, -5.1616e+00,  3.6546e+00, -4.2328e-01, -2.8030e-01,\n",
              "          6.8056e-01,  6.5658e+00, -8.2485e+00, -3.4706e-01,  4.9586e+00,\n",
              "         -1.0169e+01,  3.9439e+00, -1.8912e+00,  1.8682e+00, -1.6578e+00,\n",
              "          1.4495e+01, -1.1158e+01],\n",
              "        [-4.8923e+00, -7.4898e+00,  2.0892e+00,  1.3187e+00, -2.5190e+00,\n",
              "          2.5073e-02,  1.0282e+01,  1.1966e+01, -6.5692e+00, -2.5968e+00,\n",
              "          1.2853e+01, -4.9361e+00, -5.5785e+00,  1.2206e+01,  9.3983e+00,\n",
              "          7.1608e+00,  9.9566e-01,  3.9596e+00, -6.5515e+00, -8.4198e-01,\n",
              "         -8.5036e-02, -2.1404e+00,  6.7496e+00,  1.1528e+01,  4.5018e+00,\n",
              "          1.9070e+00, -1.4813e+00],\n",
              "        [ 1.1554e+00, -1.7909e-01, -1.4372e+00,  2.1412e+00, -1.4703e+00,\n",
              "          4.5249e+00, -2.1966e+00, -4.1568e+00, -8.8706e-01, -2.3766e+00,\n",
              "          1.0037e+01, -5.9048e+00,  1.0720e+01,  1.2515e+01,  5.5559e+00,\n",
              "          7.5206e+00,  4.2145e+00, -1.2563e+01, -4.6380e+00,  9.7909e+00,\n",
              "          1.5877e+00, -7.5100e+00, -7.5377e+00,  2.8622e+00,  9.7893e+00,\n",
              "         -8.5290e+00, -1.4052e+01],\n",
              "        [-9.4224e+00,  6.2839e+00,  8.9713e+00, -3.5055e+00, -1.0126e+01,\n",
              "          2.8447e+00,  6.0967e+00,  9.2838e+00,  2.9208e+00,  4.9169e+00,\n",
              "          2.0164e+01, -1.0634e+01, -1.6933e+00,  6.4399e+00,  8.6131e+00,\n",
              "          5.6926e+00,  6.4382e+00, -1.0193e+01, -3.5196e+00,  5.4281e+00,\n",
              "         -4.5073e+00,  2.6335e+00,  5.9872e+00,  1.3286e+01,  8.9485e+00,\n",
              "         -8.7068e+00, -2.3134e+00],\n",
              "        [-5.3705e+00,  1.2533e+01, -8.9345e+00, -2.8750e+00, -5.8957e+00,\n",
              "          5.0109e+00,  6.9941e+00,  1.1396e+00, -3.9046e+00,  1.3572e+01,\n",
              "          1.7534e+01, -6.8777e+00,  8.6443e+00,  3.7937e+00,  1.1806e+01,\n",
              "          1.6829e+00,  4.7134e+00, -3.1719e+00, -1.6465e-01,  1.1815e+01,\n",
              "         -7.6651e+00, -3.1737e+00, -3.1122e+00,  3.2465e+00,  3.6728e+00,\n",
              "          2.1990e+00, -7.8563e-01],\n",
              "        [-5.0401e+00, -1.2785e+01, -7.3766e+00, -6.3769e+00, -6.7781e+00,\n",
              "          2.4620e+00,  7.7151e+00,  9.3083e+00, -8.3713e-01,  9.1780e+00,\n",
              "          3.8042e+00, -1.3136e+01,  1.9378e+00,  5.4658e+00,  1.0756e+00,\n",
              "          2.1169e+00,  1.0490e+01,  4.6859e+00,  6.3964e+00,  3.4168e+00,\n",
              "         -2.2458e+00,  2.9354e+00,  1.2137e+00,  1.3255e+01,  1.0026e+01,\n",
              "         -7.3537e+00, -1.3127e+00],\n",
              "        [-9.1075e+00, -1.0562e+01, -1.1843e+01, -1.0242e+01, -1.0572e+00,\n",
              "         -1.1358e+00,  1.0154e+01,  4.9107e+00, -7.0665e+00,  4.7404e+00,\n",
              "          5.4861e+00, -7.0777e+00,  1.8226e+00, -1.9951e+00, -8.9698e-01,\n",
              "          4.9168e+00,  6.8253e+00, -4.9643e-01, -1.7873e+00, -4.4214e+00,\n",
              "          5.4580e-01,  7.1063e+00,  4.8304e+00,  5.2617e+00,  2.4761e+00,\n",
              "          2.8313e+00, -1.7843e+00],\n",
              "        [-8.6937e+00, -8.2608e+00,  9.5710e-01, -4.4532e+00, -9.5393e+00,\n",
              "          2.8918e+00,  7.4894e+00,  3.6866e+00,  2.8771e+00,  1.8411e+00,\n",
              "          9.5289e+00,  5.6025e+00,  8.8707e-01, -7.5921e+00, -1.2212e+00,\n",
              "          2.3141e+00,  6.5417e+00,  8.4873e+00, -1.1511e+01,  2.3524e+00,\n",
              "         -6.7808e+00,  1.7498e+01,  8.3684e+00,  5.5757e+00,  7.1726e+00,\n",
              "          3.1390e+00, -1.5257e+00],\n",
              "        [-4.0761e+00, -6.2716e+00,  8.4237e+00, -4.9952e-02, -6.3395e+00,\n",
              "         -1.2894e+00,  1.2493e+01,  1.9502e+01,  3.6146e+00,  9.8651e+00,\n",
              "          9.3766e+00, -7.5528e+00, -8.5840e+00,  4.4608e+00,  5.8212e+00,\n",
              "         -1.0225e+00,  6.0308e+00,  1.0809e+01, -1.5925e-01, -2.5941e-01,\n",
              "         -5.8506e+00, -1.4808e+00,  1.1202e+01,  1.4303e+01,  1.1470e+01,\n",
              "         -7.2621e+00,  1.7600e+00],\n",
              "        [-6.1503e+00, -1.4901e+01, -1.5442e+01, -9.7756e+00, -7.6668e+00,\n",
              "          1.3987e+00,  8.9712e+00,  8.8141e+00,  1.5336e+00,  1.5792e+01,\n",
              "         -3.4114e+00, -1.5634e+01,  6.3062e+00, -7.0197e-01,  1.2256e+00,\n",
              "          3.1289e-01,  1.3372e+01,  6.3897e+00,  7.3537e+00,  1.3904e+00,\n",
              "         -1.5543e+00,  2.1282e+00,  4.6763e+00,  1.2712e+01,  5.5560e+00,\n",
              "         -5.9465e+00, -2.5299e+00],\n",
              "        [ 2.9168e+00, -1.7380e+01, -1.4047e+01, -4.2308e+00,  7.5933e+00,\n",
              "          1.8522e+00,  1.4853e+01,  2.6369e+00, -1.2658e+01, -4.5944e+00,\n",
              "         -6.3708e-01, -2.9342e+00,  4.8862e-01, -1.4227e+00,  2.9329e-01,\n",
              "          1.1501e+00,  8.6318e+00,  6.8343e+00, -3.6500e+00, -4.9848e+00,\n",
              "         -1.3670e-01,  5.3206e+00,  5.7331e+00, -1.6213e+00,  1.6179e+00,\n",
              "          3.7125e+00,  3.3399e-01],\n",
              "        [ 1.1554e+00, -1.7909e-01, -1.4372e+00,  2.1412e+00, -1.4703e+00,\n",
              "          4.5249e+00, -2.1966e+00, -4.1568e+00, -8.8706e-01, -2.3766e+00,\n",
              "          1.0037e+01, -5.9048e+00,  1.0720e+01,  1.2515e+01,  5.5559e+00,\n",
              "          7.5206e+00,  4.2145e+00, -1.2563e+01, -4.6380e+00,  9.7909e+00,\n",
              "          1.5877e+00, -7.5100e+00, -7.5377e+00,  2.8622e+00,  9.7893e+00,\n",
              "         -8.5290e+00, -1.4052e+01],\n",
              "        [-8.3292e+00,  1.3779e+00,  3.5395e+00, -1.6124e+00, -7.3324e+00,\n",
              "          5.8600e+00,  5.2852e+00,  6.4601e+00,  6.2777e-01, -6.4241e-01,\n",
              "          1.7560e+01, -1.4983e+01,  1.3217e+00,  1.2100e+01,  8.4013e+00,\n",
              "          5.6418e+00,  6.3217e+00, -1.1323e+01, -8.3365e-01,  5.9903e+00,\n",
              "          7.8599e-01, -1.9014e+00,  2.8260e+00,  1.1373e+01,  1.0976e+01,\n",
              "         -1.0584e+01, -5.8849e+00],\n",
              "        [-1.3521e+01,  1.0316e+01, -1.7677e+00, -7.6534e+00, -1.2764e+01,\n",
              "         -1.1815e+00,  1.2024e+01,  1.1213e+01,  5.2051e+00,  1.9386e+01,\n",
              "          2.0810e+01, -2.4443e+00, -4.5135e-01, -1.3084e+00,  5.2807e+00,\n",
              "          2.2572e+00,  3.1829e+00, -4.6151e+00,  5.9052e+00, -6.7186e-01,\n",
              "         -1.2477e+01,  3.7858e+00,  2.9297e+00,  1.4117e+01,  6.7101e+00,\n",
              "          5.1390e+00, -9.8293e-01],\n",
              "        [ 6.7806e+00, -5.8513e-01, -4.7127e+00,  9.5379e+00, -2.5241e+00,\n",
              "          4.3137e+00,  5.9817e+00, -2.0065e+00,  2.4660e+00, -1.1108e-01,\n",
              "          1.0922e+01,  1.7830e+00,  5.1873e+00, -8.1492e+00, -3.8763e+00,\n",
              "         -3.2089e+00,  5.7918e+00,  1.5311e+01, -1.0544e+01,  6.3316e+00,\n",
              "         -1.3465e+01,  1.1587e+01,  4.8584e+00, -5.6591e+00,  1.9810e+00,\n",
              "          8.4783e+00, -1.7613e+00],\n",
              "        [ 5.0864e+00, -1.3598e+01, -4.3066e-01,  3.7690e+00, -4.0209e+00,\n",
              "         -2.1241e+00,  2.7577e+00,  6.7929e+00,  5.4528e+00, -6.4038e+00,\n",
              "          5.4757e+00, -6.1085e+00,  6.5640e+00,  5.2724e+00, -2.9274e+00,\n",
              "          1.7380e-01,  5.5433e+00,  6.3410e+00, -1.4614e+01,  2.3129e-01,\n",
              "          7.0354e-01,  4.0931e+00,  2.5031e+00,  1.2262e+01,  4.3835e+00,\n",
              "         -1.4142e+01, -2.7979e+00],\n",
              "        [-1.2116e+01, -2.7093e+00, -2.7187e+00, -8.3704e+00, -1.2321e+01,\n",
              "          3.2154e+00,  7.7766e+00,  6.1084e+00,  4.0839e+00,  3.6972e+00,\n",
              "          1.2933e+01, -8.6696e+00,  2.4244e+00, -2.0309e+00,  2.1574e+00,\n",
              "          5.8134e+00,  7.0970e+00, -5.7737e+00, -2.8064e+00,  8.2181e+00,\n",
              "         -1.6691e+00,  9.1615e+00,  5.0467e+00,  1.2071e+01,  8.6047e+00,\n",
              "          5.5915e-01, -3.7951e+00],\n",
              "        [-5.5788e+00,  1.4854e+00, -1.5091e+00,  1.1519e+00, -2.1476e-01,\n",
              "          6.4754e-01,  1.1695e+01,  9.7579e+00, -6.1096e+00,  6.6971e+00,\n",
              "          1.6498e+01, -7.5025e+00, -3.2457e+00,  8.2567e+00,  8.7175e+00,\n",
              "          3.1919e+00,  4.3594e+00,  3.9097e+00,  3.3624e+00,  2.7775e+00,\n",
              "         -5.3608e+00, -4.9874e+00, -6.2037e-02,  6.1512e+00,  9.2926e+00,\n",
              "          1.6164e+00, -2.1314e+00]])"
            ]
          },
          "metadata": {},
          "execution_count": 91
        }
      ]
    },
    {
      "cell_type": "code",
      "source": [
        "counts = logits.exp()"
      ],
      "metadata": {
        "id": "eEIgHXw1rhWb"
      },
      "execution_count": 93,
      "outputs": []
    },
    {
      "cell_type": "code",
      "source": [
        "prob = counts / counts.sum(1, keepdims = True)"
      ],
      "metadata": {
        "id": "UQ8fdxEPrnwT"
      },
      "execution_count": 94,
      "outputs": []
    },
    {
      "cell_type": "code",
      "source": [
        "prob.shape"
      ],
      "metadata": {
        "colab": {
          "base_uri": "https://localhost:8080/"
        },
        "id": "Pkhm7Dm5v9CS",
        "outputId": "1a749992-3330-4c71-c873-da29cba67680"
      },
      "execution_count": 95,
      "outputs": [
        {
          "output_type": "execute_result",
          "data": {
            "text/plain": [
              "torch.Size([32, 27])"
            ]
          },
          "metadata": {},
          "execution_count": 95
        }
      ]
    },
    {
      "cell_type": "code",
      "source": [
        "loss = -prob[torch.arange(32),Y].log().mean()\n",
        "loss"
      ],
      "metadata": {
        "colab": {
          "base_uri": "https://localhost:8080/"
        },
        "id": "DARNq-dKwJOl",
        "outputId": "314f7f19-cea6-4943-c7ad-2d7c3bbda070"
      },
      "execution_count": 101,
      "outputs": [
        {
          "output_type": "execute_result",
          "data": {
            "text/plain": [
              "tensor(15.9991)"
            ]
          },
          "metadata": {},
          "execution_count": 101
        }
      ]
    },
    {
      "cell_type": "code",
      "source": [],
      "metadata": {
        "id": "Fj6ZY1E8xhg8"
      },
      "execution_count": null,
      "outputs": []
    },
    {
      "cell_type": "markdown",
      "source": [
        "#Now made respectable\n"
      ],
      "metadata": {
        "id": "ege162BLx0gO"
      }
    },
    {
      "cell_type": "code",
      "source": [
        "X.shape, Y.shape"
      ],
      "metadata": {
        "colab": {
          "base_uri": "https://localhost:8080/"
        },
        "id": "sy81mBqjwFUh",
        "outputId": "2b545b75-f153-4d28-f4af-c08c89e4aa9f"
      },
      "execution_count": 102,
      "outputs": [
        {
          "output_type": "execute_result",
          "data": {
            "text/plain": [
              "(torch.Size([32, 3]), torch.Size([32]))"
            ]
          },
          "metadata": {},
          "execution_count": 102
        }
      ]
    },
    {
      "cell_type": "code",
      "source": [
        "g = torch.Generator().manual_seed(2147483647) # for reproducibility\n",
        "C = torch.randn((27,2), generator = g)\n",
        "W1 = torch.randn((6,100), generator = g)\n",
        "b1 = torch.randn((100), generator = g)\n",
        "W2 = torch.randn((100,27), generator = g)\n",
        "b2 = torch.randn((27), generator = g)\n",
        "parameters = [C,W1,b1,W2,b2]"
      ],
      "metadata": {
        "id": "N5Uru2rfx-ns"
      },
      "execution_count": 105,
      "outputs": []
    },
    {
      "cell_type": "code",
      "source": [
        "sum(p.nelement() for p in parameters) # number of parameters in total"
      ],
      "metadata": {
        "colab": {
          "base_uri": "https://localhost:8080/"
        },
        "id": "lgxWL8Nk0sKt",
        "outputId": "94a2c6e2-8024-45e9-9911-40d75fdce7f1"
      },
      "execution_count": 106,
      "outputs": [
        {
          "output_type": "execute_result",
          "data": {
            "text/plain": [
              "3481"
            ]
          },
          "metadata": {},
          "execution_count": 106
        }
      ]
    },
    {
      "cell_type": "code",
      "source": [
        "emb = C[X]\n",
        "h = torch.tanh(emb.view(-1,6) @ W1 + b1)\n",
        "logits = h @ W2 + b2\n",
        "counts = logits.exp()\n",
        "prob = counts / counts.sum(1, keepdim = True)\n",
        "loss = - prob[torch.arange(32),Y].log().mean()\n",
        "loss"
      ],
      "metadata": {
        "colab": {
          "base_uri": "https://localhost:8080/"
        },
        "id": "U14PCrJz04pH",
        "outputId": "d37ee40f-d2b6-4774-8e57-e58739088ccd"
      },
      "execution_count": 107,
      "outputs": [
        {
          "output_type": "execute_result",
          "data": {
            "text/plain": [
              "tensor(17.7697)"
            ]
          },
          "metadata": {},
          "execution_count": 107
        }
      ]
    },
    {
      "cell_type": "code",
      "source": [],
      "metadata": {
        "id": "LnAoWDNB13EW"
      },
      "execution_count": null,
      "outputs": []
    }
  ]
}